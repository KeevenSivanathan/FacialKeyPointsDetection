{
  "nbformat": 4,
  "nbformat_minor": 0,
  "metadata": {
    "colab": {
      "name": "pretrained_CNN.ipynb",
      "provenance": [],
      "collapsed_sections": []
    },
    "kernelspec": {
      "name": "python3",
      "display_name": "Python 3"
    },
    "language_info": {
      "name": "python"
    }
  },
  "cells": [
    {
      "cell_type": "markdown",
      "metadata": {
        "id": "t4DfW0i19pkW"
      },
      "source": [
        "*Libraries Used :*"
      ]
    },
    {
      "cell_type": "code",
      "metadata": {
        "id": "DmLgVmJsq7ZT"
      },
      "source": [
        "import pandas as pd\n",
        "import matplotlib.pyplot as plt\n",
        "import numpy as np\n",
        "import torch\n",
        "import torchvision\n",
        "from sklearn.model_selection import train_test_split\n",
        "import albumentations as A"
      ],
      "execution_count": 1,
      "outputs": []
    },
    {
      "cell_type": "code",
      "metadata": {
        "colab": {
          "base_uri": "https://localhost:8080/"
        },
        "id": "xJWmCK15rBBG",
        "outputId": "6a043850-ad5e-4bbd-b1b4-83e202b8842a"
      },
      "source": [
        "from google.colab import drive\n",
        "drive.mount('/content/gdrive')"
      ],
      "execution_count": 2,
      "outputs": [
        {
          "output_type": "stream",
          "text": [
            "Drive already mounted at /content/gdrive; to attempt to forcibly remount, call drive.mount(\"/content/gdrive\", force_remount=True).\n"
          ],
          "name": "stdout"
        }
      ]
    },
    {
      "cell_type": "markdown",
      "metadata": {
        "id": "FxexImZA90K6"
      },
      "source": [
        "# Predicting Facial Keypoints using a Pre-Trained Convolutional Neural Network"
      ]
    },
    {
      "cell_type": "code",
      "metadata": {
        "id": "UlNdHQNOrDUh"
      },
      "source": [
        "data_dir = 'gdrive/MyDrive/Year 4/StatisticalLearning/FinalProject/'"
      ],
      "execution_count": 3,
      "outputs": []
    },
    {
      "cell_type": "code",
      "metadata": {
        "id": "6oOupMq8rJ0y"
      },
      "source": [
        "#Reading in the data\n",
        "df_train = pd.read_csv(data_dir + 'training.csv')\n",
        "df_test = pd.read_csv(data_dir + 'test.csv')\n",
        "\n",
        "#Getting the validation dataset\n",
        "df_train, df_val = train_test_split(df_train, test_size=0.25, random_state=1) #Split x train into 2 pieces "
      ],
      "execution_count": 4,
      "outputs": []
    },
    {
      "cell_type": "code",
      "metadata": {
        "colab": {
          "base_uri": "https://localhost:8080/"
        },
        "id": "P-63BO25rLaQ",
        "outputId": "ee7d77f7-dd22-403b-e759-e6662c242e62"
      },
      "source": [
        "#Shape of Train and Test\n",
        "print('Train -->' , df_train.shape)\n",
        "print('Validation -->' , df_val.shape)"
      ],
      "execution_count": 5,
      "outputs": [
        {
          "output_type": "stream",
          "text": [
            "Train --> (5286, 31)\n",
            "Test --> (1783, 2)\n",
            "Validation --> (1763, 31)\n"
          ],
          "name": "stdout"
        }
      ]
    },
    {
      "cell_type": "markdown",
      "metadata": {
        "id": "J8JqtINt981y"
      },
      "source": [
        "**Imputing Missing Values**"
      ]
    },
    {
      "cell_type": "code",
      "metadata": {
        "colab": {
          "base_uri": "https://localhost:8080/"
        },
        "id": "edXOcpVSrM1a",
        "outputId": "93003ff3-d778-4b9a-dccf-04b1a1c1a6d4"
      },
      "source": [
        "#Number of null values in each column\n",
        "df_train.isna().sum() #Impute values "
      ],
      "execution_count": 6,
      "outputs": [
        {
          "output_type": "execute_result",
          "data": {
            "text/plain": [
              "left_eye_center_x               8\n",
              "left_eye_center_y               8\n",
              "right_eye_center_x              8\n",
              "right_eye_center_y              8\n",
              "left_eye_inner_corner_x      3561\n",
              "left_eye_inner_corner_y      3561\n",
              "left_eye_outer_corner_x      3562\n",
              "left_eye_outer_corner_y      3562\n",
              "right_eye_inner_corner_x     3559\n",
              "right_eye_inner_corner_y     3559\n",
              "right_eye_outer_corner_x     3560\n",
              "right_eye_outer_corner_y     3560\n",
              "left_eyebrow_inner_end_x     3562\n",
              "left_eyebrow_inner_end_y     3562\n",
              "left_eyebrow_outer_end_x     3598\n",
              "left_eyebrow_outer_end_y     3598\n",
              "right_eyebrow_inner_end_x    3560\n",
              "right_eyebrow_inner_end_y    3560\n",
              "right_eyebrow_outer_end_x    3589\n",
              "right_eyebrow_outer_end_y    3589\n",
              "nose_tip_x                      0\n",
              "nose_tip_y                      0\n",
              "mouth_left_corner_x          3561\n",
              "mouth_left_corner_y          3561\n",
              "mouth_right_corner_x         3559\n",
              "mouth_right_corner_y         3559\n",
              "mouth_center_top_lip_x       3556\n",
              "mouth_center_top_lip_y       3556\n",
              "mouth_center_bottom_lip_x      24\n",
              "mouth_center_bottom_lip_y      24\n",
              "Image                           0\n",
              "dtype: int64"
            ]
          },
          "metadata": {
            "tags": []
          },
          "execution_count": 6
        }
      ]
    },
    {
      "cell_type": "code",
      "metadata": {
        "colab": {
          "base_uri": "https://localhost:8080/"
        },
        "id": "KMe_YM4MFZgJ",
        "outputId": "7ade58f3-8214-4f9c-aa37-3c10d8a52c02"
      },
      "source": [
        "#Number of null values in validation set \n",
        "df_val.isna().sum() "
      ],
      "execution_count": 7,
      "outputs": [
        {
          "output_type": "execute_result",
          "data": {
            "text/plain": [
              "left_eye_center_x               2\n",
              "left_eye_center_y               2\n",
              "right_eye_center_x              5\n",
              "right_eye_center_y              5\n",
              "left_eye_inner_corner_x      1217\n",
              "left_eye_inner_corner_y      1217\n",
              "left_eye_outer_corner_x      1220\n",
              "left_eye_outer_corner_y      1220\n",
              "right_eye_inner_corner_x     1222\n",
              "right_eye_inner_corner_y     1222\n",
              "right_eye_outer_corner_x     1221\n",
              "right_eye_outer_corner_y     1221\n",
              "left_eyebrow_inner_end_x     1217\n",
              "left_eyebrow_inner_end_y     1217\n",
              "left_eyebrow_outer_end_x     1226\n",
              "left_eyebrow_outer_end_y     1226\n",
              "right_eyebrow_inner_end_x    1219\n",
              "right_eyebrow_inner_end_y    1219\n",
              "right_eyebrow_outer_end_x    1224\n",
              "right_eyebrow_outer_end_y    1224\n",
              "nose_tip_x                      0\n",
              "nose_tip_y                      0\n",
              "mouth_left_corner_x          1219\n",
              "mouth_left_corner_y          1219\n",
              "mouth_right_corner_x         1220\n",
              "mouth_right_corner_y         1220\n",
              "mouth_center_top_lip_x       1218\n",
              "mouth_center_top_lip_y       1218\n",
              "mouth_center_bottom_lip_x       9\n",
              "mouth_center_bottom_lip_y       9\n",
              "Image                           0\n",
              "dtype: int64"
            ]
          },
          "metadata": {
            "tags": []
          },
          "execution_count": 7
        }
      ]
    },
    {
      "cell_type": "code",
      "metadata": {
        "id": "PvlXGyV1rOoA"
      },
      "source": [
        "#Impute Missing values from the training and validation set \n",
        "df_train.fillna(df_train.median(), inplace = True)\n",
        "df_val.fillna(df_train.median(), inplace = True)"
      ],
      "execution_count": 8,
      "outputs": []
    },
    {
      "cell_type": "markdown",
      "metadata": {
        "id": "Pfukh-c8-Ign"
      },
      "source": [
        "**Plotting an Image from the Training Dataset**"
      ]
    },
    {
      "cell_type": "code",
      "metadata": {
        "colab": {
          "base_uri": "https://localhost:8080/",
          "height": 419
        },
        "id": "4cLJ745rrSyz",
        "outputId": "0606129d-2c92-4bae-fd69-883f2521c364"
      },
      "source": [
        "#Image column from training set which containes the image details\n",
        "df_train[['Image']] "
      ],
      "execution_count": 9,
      "outputs": [
        {
          "output_type": "execute_result",
          "data": {
            "text/html": [
              "<div>\n",
              "<style scoped>\n",
              "    .dataframe tbody tr th:only-of-type {\n",
              "        vertical-align: middle;\n",
              "    }\n",
              "\n",
              "    .dataframe tbody tr th {\n",
              "        vertical-align: top;\n",
              "    }\n",
              "\n",
              "    .dataframe thead th {\n",
              "        text-align: right;\n",
              "    }\n",
              "</style>\n",
              "<table border=\"1\" class=\"dataframe\">\n",
              "  <thead>\n",
              "    <tr style=\"text-align: right;\">\n",
              "      <th></th>\n",
              "      <th>Image</th>\n",
              "    </tr>\n",
              "  </thead>\n",
              "  <tbody>\n",
              "    <tr>\n",
              "      <th>6105</th>\n",
              "      <td>15 22 21 20 32 26 22 15 59 53 28 33 32 31 30 4...</td>\n",
              "    </tr>\n",
              "    <tr>\n",
              "      <th>3771</th>\n",
              "      <td>164 235 238 232 240 237 231 239 231 222 205 19...</td>\n",
              "    </tr>\n",
              "    <tr>\n",
              "      <th>1228</th>\n",
              "      <td>24 24 23 30 51 74 87 95 97 99 98 99 102 101 10...</td>\n",
              "    </tr>\n",
              "    <tr>\n",
              "      <th>6469</th>\n",
              "      <td>171 171 172 171 171 170 167 166 171 167 161 16...</td>\n",
              "    </tr>\n",
              "    <tr>\n",
              "      <th>289</th>\n",
              "      <td>168 154 141 126 117 122 125 117 101 113 132 12...</td>\n",
              "    </tr>\n",
              "    <tr>\n",
              "      <th>...</th>\n",
              "      <td>...</td>\n",
              "    </tr>\n",
              "    <tr>\n",
              "      <th>905</th>\n",
              "      <td>197 199 198 199 199 198 197 197 197 197 196 19...</td>\n",
              "    </tr>\n",
              "    <tr>\n",
              "      <th>5192</th>\n",
              "      <td>4 9 11 0 6 8 0 10 16 34 63 46 48 50 67 60 76 6...</td>\n",
              "    </tr>\n",
              "    <tr>\n",
              "      <th>3980</th>\n",
              "      <td>103 120 103 105 114 108 93 88 107 119 122 129 ...</td>\n",
              "    </tr>\n",
              "    <tr>\n",
              "      <th>235</th>\n",
              "      <td>186 189 187 189 184 166 128 89 68 60 60 62 58 ...</td>\n",
              "    </tr>\n",
              "    <tr>\n",
              "      <th>5157</th>\n",
              "      <td>28 27 26 26 27 29 31 34 36 38 41 41 42 42 42 4...</td>\n",
              "    </tr>\n",
              "  </tbody>\n",
              "</table>\n",
              "<p>5286 rows × 1 columns</p>\n",
              "</div>"
            ],
            "text/plain": [
              "                                                  Image\n",
              "6105  15 22 21 20 32 26 22 15 59 53 28 33 32 31 30 4...\n",
              "3771  164 235 238 232 240 237 231 239 231 222 205 19...\n",
              "1228  24 24 23 30 51 74 87 95 97 99 98 99 102 101 10...\n",
              "6469  171 171 172 171 171 170 167 166 171 167 161 16...\n",
              "289   168 154 141 126 117 122 125 117 101 113 132 12...\n",
              "...                                                 ...\n",
              "905   197 199 198 199 199 198 197 197 197 197 196 19...\n",
              "5192  4 9 11 0 6 8 0 10 16 34 63 46 48 50 67 60 76 6...\n",
              "3980  103 120 103 105 114 108 93 88 107 119 122 129 ...\n",
              "235   186 189 187 189 184 166 128 89 68 60 60 62 58 ...\n",
              "5157  28 27 26 26 27 29 31 34 36 38 41 41 42 42 42 4...\n",
              "\n",
              "[5286 rows x 1 columns]"
            ]
          },
          "metadata": {
            "tags": []
          },
          "execution_count": 9
        }
      ]
    },
    {
      "cell_type": "code",
      "metadata": {
        "id": "Uns8WgFLrU00"
      },
      "source": [
        "#Splitting the 'Image' column by a space and placing it in a new column\n",
        "df_train['clean_img'] = df_train['Image'].str.split(' ')"
      ],
      "execution_count": 10,
      "outputs": []
    },
    {
      "cell_type": "code",
      "metadata": {
        "id": "aVp3_wK1rWww"
      },
      "source": [
        "#Gets the image values into an array\n",
        "img  = [] #An array containing the image values \n",
        "for x in df_train['clean_img']:\n",
        "    img.append(np.array(x, dtype=np.float32))"
      ],
      "execution_count": 11,
      "outputs": []
    },
    {
      "cell_type": "code",
      "metadata": {
        "id": "4XXuLXo5rYde"
      },
      "source": [
        "#Reshaping the image values into 96x96 and appending these values into array called new_img\n",
        "new_img = []\n",
        "for x in img:\n",
        "    new_img.append(x.reshape(96,96))"
      ],
      "execution_count": 12,
      "outputs": []
    },
    {
      "cell_type": "code",
      "metadata": {
        "colab": {
          "base_uri": "https://localhost:8080/"
        },
        "id": "7u369UydrZ4o",
        "outputId": "915258e0-7e29-4135-e1b3-161e82161d4e"
      },
      "source": [
        "images = df_train['clean_img']\n",
        "images"
      ],
      "execution_count": 13,
      "outputs": [
        {
          "output_type": "execute_result",
          "data": {
            "text/plain": [
              "6105    [15, 22, 21, 20, 32, 26, 22, 15, 59, 53, 28, 3...\n",
              "3771    [164, 235, 238, 232, 240, 237, 231, 239, 231, ...\n",
              "1228    [24, 24, 23, 30, 51, 74, 87, 95, 97, 99, 98, 9...\n",
              "6469    [171, 171, 172, 171, 171, 170, 167, 166, 171, ...\n",
              "289     [168, 154, 141, 126, 117, 122, 125, 117, 101, ...\n",
              "                              ...                        \n",
              "905     [197, 199, 198, 199, 199, 198, 197, 197, 197, ...\n",
              "5192    [4, 9, 11, 0, 6, 8, 0, 10, 16, 34, 63, 46, 48,...\n",
              "3980    [103, 120, 103, 105, 114, 108, 93, 88, 107, 11...\n",
              "235     [186, 189, 187, 189, 184, 166, 128, 89, 68, 60...\n",
              "5157    [28, 27, 26, 26, 27, 29, 31, 34, 36, 38, 41, 4...\n",
              "Name: clean_img, Length: 5286, dtype: object"
            ]
          },
          "metadata": {
            "tags": []
          },
          "execution_count": 13
        }
      ]
    },
    {
      "cell_type": "code",
      "metadata": {
        "colab": {
          "base_uri": "https://localhost:8080/"
        },
        "id": "_dr7P_8JrdVl",
        "outputId": "9ec6f468-1fb8-4cfe-f2aa-ab718c7e740d"
      },
      "source": [
        "#The index we are looking at \n",
        "idx =8\n",
        "\n",
        "row = df_train.iloc[idx]\n",
        "\n",
        "#Getting the first 30 columns \n",
        "y = row[0:30]\n",
        "\n",
        "#Data for a row \n",
        "y"
      ],
      "execution_count": 14,
      "outputs": [
        {
          "output_type": "execute_result",
          "data": {
            "text/plain": [
              "left_eye_center_x            66.4373\n",
              "left_eye_center_y            35.2478\n",
              "right_eye_center_x           30.6998\n",
              "right_eye_center_y           35.5586\n",
              "left_eye_inner_corner_x      59.3271\n",
              "left_eye_inner_corner_y      37.9068\n",
              "left_eye_outer_corner_x      73.1662\n",
              "left_eye_outer_corner_y      37.6502\n",
              "right_eye_inner_corner_x      36.621\n",
              "right_eye_inner_corner_y     37.9495\n",
              "right_eye_outer_corner_x      22.563\n",
              "right_eye_outer_corner_y     37.8747\n",
              "left_eyebrow_inner_end_x     56.2684\n",
              "left_eyebrow_inner_end_y      29.549\n",
              "left_eyebrow_outer_end_x     79.7681\n",
              "left_eyebrow_outer_end_y      29.799\n",
              "right_eyebrow_inner_end_x    39.3173\n",
              "right_eyebrow_inner_end_y    29.5668\n",
              "right_eyebrow_outer_end_x    15.8513\n",
              "right_eyebrow_outer_end_y    30.3039\n",
              "nose_tip_x                   49.0347\n",
              "nose_tip_y                   56.6904\n",
              "mouth_left_corner_x          63.1275\n",
              "mouth_left_corner_y          75.7867\n",
              "mouth_right_corner_x         32.9794\n",
              "mouth_right_corner_y         76.0065\n",
              "mouth_center_top_lip_x       47.8444\n",
              "mouth_center_top_lip_y       72.6127\n",
              "mouth_center_bottom_lip_x    50.2778\n",
              "mouth_center_bottom_lip_y     71.607\n",
              "Name: 2300, dtype: object"
            ]
          },
          "metadata": {
            "tags": []
          },
          "execution_count": 14
        }
      ]
    },
    {
      "cell_type": "markdown",
      "metadata": {
        "id": "HIl8QFb_-Scs"
      },
      "source": [
        "*Image with Facial Keypoints from the Training Set*"
      ]
    },
    {
      "cell_type": "code",
      "metadata": {
        "colab": {
          "base_uri": "https://localhost:8080/",
          "height": 285
        },
        "id": "vSUssOYQrzCY",
        "outputId": "f1cdbc5f-2577-47b0-9fd6-cf86a4cbed05"
      },
      "source": [
        "#Plotting the Facial Data Points\n",
        "plt.scatter(y.left_eye_center_x, y.left_eye_center_y, color = 'crimson')\n",
        "plt.scatter(y.right_eye_center_x, y.right_eye_center_y, color = 'crimson')\n",
        "plt.scatter(y.left_eye_inner_corner_x, y.left_eye_inner_corner_y, color = 'crimson')\n",
        "plt.scatter(y.left_eye_outer_corner_x, y.left_eye_outer_corner_y, color = 'crimson')\n",
        "plt.scatter(y.right_eye_inner_corner_x, y.right_eye_inner_corner_y, color = 'crimson')\n",
        "plt.scatter(y.right_eye_outer_corner_x, y.right_eye_outer_corner_y, color = 'crimson')\n",
        "plt.scatter(y.left_eyebrow_inner_end_x, y.left_eyebrow_inner_end_y, color = 'crimson')\n",
        "plt.scatter(y.left_eyebrow_outer_end_x, y.left_eyebrow_outer_end_y, color = 'crimson')\n",
        "plt.scatter(y.right_eyebrow_inner_end_x, y.right_eyebrow_inner_end_y, color = 'crimson')\n",
        "plt.scatter(y.right_eyebrow_outer_end_x, y.right_eyebrow_outer_end_y, color = 'crimson')\n",
        "plt.scatter(y.nose_tip_x, y.nose_tip_y, color = 'crimson')\n",
        "plt.scatter(y.mouth_left_corner_x, y.mouth_left_corner_y, color = 'crimson')\n",
        "plt.scatter(y.mouth_right_corner_x, y.mouth_right_corner_y, color = 'crimson')\n",
        "plt.scatter(y.mouth_center_top_lip_x, y.mouth_center_top_lip_y, color = 'crimson')\n",
        "plt.scatter(y.mouth_center_bottom_lip_x, y.mouth_center_bottom_lip_x, color = 'crimson')\n",
        "plt.scatter(y.left_eye_inner_corner_x, y.left_eye_inner_corner_y, color = 'crimson')\n",
        "\n",
        "#Plotting the image with grouth truth Key Points \n",
        "plt.imshow(new_img[idx],cmap='gray')"
      ],
      "execution_count": 15,
      "outputs": [
        {
          "output_type": "execute_result",
          "data": {
            "text/plain": [
              "<matplotlib.image.AxesImage at 0x7f16bd498a10>"
            ]
          },
          "metadata": {
            "tags": []
          },
          "execution_count": 15
        },
        {
          "output_type": "display_data",
          "data": {
            "image/png": "[encoded data removed]",
            "text/plain": [
              "<Figure size 432x288 with 1 Axes>"
            ]
          },
          "metadata": {
            "tags": [],
            "needs_background": "light"
          }
        }
      ]
    },
    {
      "cell_type": "markdown",
      "metadata": {
        "id": "u8KS7ee4-WG8"
      },
      "source": [
        "**Implementing the Datasets Class**"
      ]
    },
    {
      "cell_type": "code",
      "metadata": {
        "id": "PafLjH8Or268"
      },
      "source": [
        "#Must implement this class and 3 methods in order to initialize, get length and get item from the dataset\n",
        "class FacialKeyPointsDataset(torch.utils.data.Dataset):\n",
        "    def __init__(self,df, augment_data = False): #Initialisation Method \n",
        "        self.df = df \n",
        "\n",
        "        #If augment_data is true \n",
        "        if augment_data: \n",
        "          self.transform = A.Compose([\n",
        "                  A.GridDistortion(),\n",
        "                  A.Flip(p=0.5),\n",
        "                  A.Normalize(mean=(0.485,0.456,0.406), std = (0.229,0.224,0.225)) #Divides by 255, then standardizes using means and std deviations\n",
        "          ])\n",
        "\n",
        "        else: #If false, then only normalize the data\n",
        "          self.transform = A.Compose([\n",
        "                  A.Normalize(mean=(0.485,0.456,0.406), std = (0.229,0.224,0.225)) \n",
        "          ])\n",
        "        \n",
        "    def __len__(self): #Length Method\n",
        "        return len(self.df)\n",
        "    \n",
        "    def __getitem__(self,idx): #Get Item Method \n",
        "        row = self.df.iloc[idx]\n",
        "\n",
        "        #get first 30 numbers in that row  \n",
        "        y = np.float32(row[0:30].values)\n",
        "        x = row['Image'].split(' ')\n",
        "        x = np.float32(np.array(x))\n",
        "    \n",
        "        #For a CNN, X needs to be a multidimensional array instead of a flat vector in a simple NN\n",
        "        x = np.reshape(x, (96,96)) \n",
        "        x = np.stack((x,x,x), axis =2)\n",
        "\n",
        "        #Data Augmentation\n",
        "        x = self.transform(image = x)['image'] #Our transform returns a key with a key called 'image'\n",
        "\n",
        "        #PyTorch wants it in (3,28,28), so we need another reshape\n",
        "        x = np.transpose(x, (2,0,1))\n",
        "\n",
        "        return x,y"
      ],
      "execution_count": 16,
      "outputs": []
    },
    {
      "cell_type": "code",
      "metadata": {
        "id": "DN7ECiOcr3lQ"
      },
      "source": [
        "#Using the FacialKeyPointsDataset class for the training and testing dataset\n",
        "dataset_train = FacialKeyPointsDataset(df_train, augment_data = False) #Augment data on training set if set to true\n",
        "dataset_val = FacialKeyPointsDataset(df_val, augment_data = False)\n",
        "\n",
        "#Using the dataloader, it grabs a batch of data, in this case the batch size is 64\n",
        "dataloader_train = torch.utils.data.DataLoader(dataset_train, batch_size=64, shuffle = True)\n",
        "dataloader_val = torch.utils.data.DataLoader(dataset_val, batch_size = 64, shuffle = True)"
      ],
      "execution_count": 17,
      "outputs": []
    },
    {
      "cell_type": "code",
      "metadata": {
        "id": "IKf6znMosEji"
      },
      "source": [
        "#Gets one batch of data\n",
        "X_batch, Y_batch = next(iter(dataloader_train))"
      ],
      "execution_count": 18,
      "outputs": []
    },
    {
      "cell_type": "code",
      "metadata": {
        "colab": {
          "base_uri": "https://localhost:8080/"
        },
        "id": "i4PEM3XFoZCv",
        "outputId": "d2c777f6-822b-4742-d701-080d846aad04"
      },
      "source": [
        "X_batch.shape"
      ],
      "execution_count": 19,
      "outputs": [
        {
          "output_type": "execute_result",
          "data": {
            "text/plain": [
              "torch.Size([64, 3, 96, 96])"
            ]
          },
          "metadata": {
            "tags": []
          },
          "execution_count": 19
        }
      ]
    },
    {
      "cell_type": "markdown",
      "metadata": {
        "id": "y3j1v6n2-bDl"
      },
      "source": [
        "**Plotting an image using the datasets class** "
      ]
    },
    {
      "cell_type": "code",
      "metadata": {
        "colab": {
          "base_uri": "https://localhost:8080/",
          "height": 285
        },
        "id": "8SmLaXaKF5c2",
        "outputId": "67c55374-8ad9-482a-c8af-9f9cb5ab0758"
      },
      "source": [
        "idx = 0\n",
        "#Target Values \n",
        "target_vals = Y_batch[idx]\n",
        "\n",
        "#Getting an image from the X_batch\n",
        "img = X_batch[idx]\n",
        "\n",
        "#Reshaping the image into a 96x96 and plotting it\n",
        "plt.imshow(img[0], cmap='gray')\n",
        "\n",
        "#Plotting the facial keypoints for the first 4 values \n",
        "plt.scatter(target_vals[0], target_vals[1], color='red')\n",
        "plt.scatter(target_vals[2], target_vals[3], color='red')"
      ],
      "execution_count": 20,
      "outputs": [
        {
          "output_type": "execute_result",
          "data": {
            "text/plain": [
              "<matplotlib.collections.PathCollection at 0x7f16bcf54750>"
            ]
          },
          "metadata": {
            "tags": []
          },
          "execution_count": 20
        },
        {
          "output_type": "display_data",
          "data": {
            "image/png": "[encoded data removed]",
            "text/plain": [
              "<Figure size 432x288 with 1 Axes>"
            ]
          },
          "metadata": {
            "tags": [],
            "needs_background": "light"
          }
        }
      ]
    },
    {
      "cell_type": "markdown",
      "metadata": {
        "id": "mlD3ghV4-e--"
      },
      "source": [
        "**Using Pre-Trained Convolutional Neural Network**\n",
        "- *Resnet18*\n",
        "- *Resnet50*"
      ]
    },
    {
      "cell_type": "code",
      "metadata": {
        "id": "Jyhplua1sF_o"
      },
      "source": [
        "#Using a pretrained model \n",
        "#model = torchvision.models.resnet18(pretrained = True)\n",
        "model = torchvision.models.resnet50(pretrained = True) #2048 in features\n",
        "\n",
        "#We need to modify the resnet to adapt to our problem, ImageNet has 1000 out_features\n",
        "model.fc = torch.nn.Linear(in_features=2048, out_features=30) #In_features = 512 if resnet18 "
      ],
      "execution_count": 21,
      "outputs": []
    },
    {
      "cell_type": "code",
      "metadata": {
        "id": "IIDa12GusWa_"
      },
      "source": [
        "device = torch.device(\"cpu\")\n",
        "model = model.to(device) #Directing our model to our device"
      ],
      "execution_count": 22,
      "outputs": []
    },
    {
      "cell_type": "code",
      "metadata": {
        "id": "KLVtKVixshjE"
      },
      "source": [
        "loss_fun = torch.nn.MSELoss() #Loss Function\n",
        "optimizer = torch.optim.Adam(model.parameters(), lr = 0.001) #Optimizer (Adam, SGD, RMSprop)"
      ],
      "execution_count": 23,
      "outputs": []
    },
    {
      "cell_type": "markdown",
      "metadata": {
        "id": "ZZS9OQWY-y7e"
      },
      "source": [
        "**Training the Neural Network**"
      ]
    },
    {
      "cell_type": "code",
      "metadata": {
        "id": "YOcJHdzAsnA8",
        "colab": {
          "base_uri": "https://localhost:8080/"
        },
        "outputId": "af7f4818-554d-4934-e0ae-2eadf6188490"
      },
      "source": [
        "#Training the Neural Network\n",
        "num_epochs = 10\n",
        "N_train = len(dataset_train)\n",
        "N_test = len(dataset_val)\n",
        "\n",
        "train_losses = [] #Collect training losses\n",
        "test_losses = [] #Collect testing losses \n",
        "\n",
        "#For the number of epochs \n",
        "for ep in range(num_epochs):\n",
        "    \n",
        "    model.train() #Puts model in training mode\n",
        "    train_loss = 0.0\n",
        "    batch_idx = 0\n",
        "    \n",
        "    for X_batch, Y_batch in dataloader_train: #Go through training data one batch at a time \n",
        "        X_batch = X_batch.to(device)\n",
        "        Y_batch = Y_batch.to(device)\n",
        "        \n",
        "        N_batch = X_batch.shape[0]\n",
        "        outputs = model(X_batch)\n",
        "        loss_onebatch = loss_fun(outputs,Y_batch)\n",
        "        \n",
        "        model.zero_grad()\n",
        "        loss_onebatch.backward() #PyTorch computes gradient \n",
        "        optimizer.step() #One iteration of stochastic gradient descent / Adam \n",
        "        \n",
        "        train_loss += loss_onebatch * N_batch\n",
        "        \n",
        "    model.eval() #Puts model in testing mode \n",
        "    test_loss = 0.0\n",
        "    \n",
        "    for X_batch, Y_batch in dataloader_val:\n",
        "        X_batch = X_batch.to(device)\n",
        "        Y_batch = Y_batch.to(device)\n",
        "        \n",
        "        with torch.no_grad(): #Tells pyTorch that it does not need to keep track of gradient info\n",
        "            N_batch = X_batch.shape[0]\n",
        "            outputs = model(X_batch) #Predictions \n",
        "            loss_onebatch = loss_fun(outputs,Y_batch)\n",
        "            test_loss += loss_onebatch * N_batch\n",
        "            \n",
        "    train_losses.append(train_loss/N_train)\n",
        "    test_losses.append(test_loss/N_train)\n",
        "    \n",
        "    print('Epoch : ', ep , '| Train Loss : ', train_loss/N_train, '| Test Loss : ', test_loss/N_train)\n",
        "        "
      ],
      "execution_count": 24,
      "outputs": [
        {
          "output_type": "stream",
          "text": [
            "Epoch :  0 | Train Loss :  tensor(433.8598, grad_fn=<DivBackward0>) | Test Loss :  tensor(2.6480)\n",
            "Epoch :  1 | Train Loss :  tensor(7.4271, grad_fn=<DivBackward0>) | Test Loss :  tensor(2.5607)\n",
            "Epoch :  2 | Train Loss :  tensor(7.2036, grad_fn=<DivBackward0>) | Test Loss :  tensor(2.5065)\n",
            "Epoch :  3 | Train Loss :  tensor(6.9332, grad_fn=<DivBackward0>) | Test Loss :  tensor(2.3772)\n",
            "Epoch :  4 | Train Loss :  tensor(6.4013, grad_fn=<DivBackward0>) | Test Loss :  tensor(2.3021)\n",
            "Epoch :  5 | Train Loss :  tensor(5.6989, grad_fn=<DivBackward0>) | Test Loss :  tensor(2.0815)\n",
            "Epoch :  6 | Train Loss :  tensor(4.9195, grad_fn=<DivBackward0>) | Test Loss :  tensor(1.9819)\n",
            "Epoch :  7 | Train Loss :  tensor(4.1852, grad_fn=<DivBackward0>) | Test Loss :  tensor(1.7225)\n",
            "Epoch :  8 | Train Loss :  tensor(3.8210, grad_fn=<DivBackward0>) | Test Loss :  tensor(1.6494)\n",
            "Epoch :  9 | Train Loss :  tensor(3.4088, grad_fn=<DivBackward0>) | Test Loss :  tensor(1.5031)\n"
          ],
          "name": "stdout"
        }
      ]
    },
    {
      "cell_type": "markdown",
      "metadata": {
        "id": "aTvaGcNIATFD"
      },
      "source": [
        "### Resnet18\n",
        "#### **Optimization Algorithm** : *Adam*\n",
        "\n",
        "> Without Data Augmentation \n",
        ">> **Learning Rate** : *0.001* \n",
        "*   **Epochs** : *10* , **Test Loss** : *1.7304*\n",
        "*   **Epochs** : *15* , **Test Loss** : *1.2049*\n",
        "*   **Epochs** : *20* , **Test Loss** : *1.3286*\n",
        "\n",
        "\n",
        ">> **Learning Rate** : *0.01* \n",
        "*   **Epochs** : *10* , **Test Loss** : *2.3047*\n",
        "\n",
        "> With Data Augmentation \n",
        ">> **Learning Rate** : *0.001* \n",
        "*   **Epochs** : *10* , **Test Loss** : *2.2037*\n",
        "*   **Epochs** : *15* , **Test Loss** : *2.1073*\n",
        "*   **Epochs** : *20* , **Test Loss** : *1.8039*\n",
        "\n",
        "\n",
        "#### **Optimization Algorithm** : *RMSprop*\n",
        "> Without Data Augmentation \n",
        ">> **Learning Rate** : *0.001* \n",
        "*   **Epochs** : *10* , **Test Loss** : *1.8473*\n",
        "*   **Epochs** : *15* , **Test Loss** : *1.6015*\n",
        "*   **Epochs** : *20* , **Test Loss** : *1.4367*\n",
        "\n",
        "\n",
        ">> **Learning Rate** : *0.01* \n",
        "*   **Epochs** : *10* , **Test Loss** : *3.5082*\n",
        "\n",
        "\n",
        "\n",
        "#### **Optimization Algorithm** : *SGD*\n",
        "> Without Data Augmentation \n",
        ">> **Learning Rate** : *0.001* \n",
        "*   **Epochs** : *10* , **Test Loss** : *2.4679*\n",
        "*   **Epochs** : *15* , **Test Loss** : *2.0740*\n",
        "*   **Epochs** : *20* , **Test Loss** : *1.7995*\n",
        "\n",
        "\n",
        ">> **Learning Rate** : *0.01* \n",
        "*   **Epochs** : *10* , **Test Loss** : *2.4421*\n"
      ]
    },
    {
      "cell_type": "markdown",
      "metadata": {
        "id": "MLp1NDASkPjL"
      },
      "source": [
        "### Resnet50\n",
        "#### **Optimization Algorithm** : *Adam*\n",
        "\n",
        "> Without Data Augmentation \n",
        ">> **Learning Rate** : *0.001* \n",
        "*   **Epochs** : *5* , **Test Loss** : *2.3021*\n",
        "*   **Epochs** : *10* , **Test Loss** : *1.5031*\n",
        "\n",
        "\n",
        "\n",
        "\n",
        "\n",
        "\n"
      ]
    },
    {
      "cell_type": "markdown",
      "metadata": {
        "id": "mr7PBTHu-75S"
      },
      "source": [
        "**A plot of the Objective Function against the Epochs**"
      ]
    },
    {
      "cell_type": "code",
      "metadata": {
        "id": "MB363wJDsp0F",
        "colab": {
          "base_uri": "https://localhost:8080/",
          "height": 298
        },
        "outputId": "8e515489-bb44-41ed-c154-4465d84b0f34"
      },
      "source": [
        "#Plot of the Objective Function against the Epochs for the Training and Validation Loss \n",
        "plt.plot(train_losses, label = 'Training Loss')\n",
        "plt.plot(test_losses, label = 'Validation Loss')\n",
        "plt.legend(loc='upper right')\n",
        "plt.title('Objective Function vs Epoch')\n",
        "\n",
        "#training loss should always go down "
      ],
      "execution_count": 25,
      "outputs": [
        {
          "output_type": "execute_result",
          "data": {
            "text/plain": [
              "Text(0.5, 1.0, 'Objective Function vs Epoch')"
            ]
          },
          "metadata": {
            "tags": []
          },
          "execution_count": 25
        },
        {
          "output_type": "display_data",
          "data": {
            "image/png": "[encoded data removed]",
            "text/plain": [
              "<Figure size 432x288 with 1 Axes>"
            ]
          },
          "metadata": {
            "tags": [],
            "needs_background": "light"
          }
        }
      ]
    },
    {
      "cell_type": "markdown",
      "metadata": {
        "id": "SOwiu5-7-_Gl"
      },
      "source": [
        "**Using our model on the validation dataset**"
      ]
    },
    {
      "cell_type": "code",
      "metadata": {
        "id": "N_UbnUIEGDTo"
      },
      "source": [
        "#Grabbing a batch of data from the validation dataset\n",
        "X_val , Y_val = next(iter(dataloader_val))\n",
        "\n",
        "X_val = X_val.to(device)\n",
        "Y_val = Y_val.to(device)\n",
        "\n",
        "with torch.no_grad(): #Tells pyTorch that it does not need to keep track of gradient info\n",
        "    N_batch = X_val.shape[0]\n",
        "    outputs = model(X_val) #Predictions \n",
        "\n",
        "outputs = outputs.cpu()\n",
        "\n",
        "img_val = X_val[0].cpu().numpy()\n",
        "validation_target_vals = outputs[0]"
      ],
      "execution_count": 26,
      "outputs": []
    },
    {
      "cell_type": "code",
      "metadata": {
        "id": "HBPxQRHRGDXB",
        "colab": {
          "base_uri": "https://localhost:8080/",
          "height": 285
        },
        "outputId": "0460e2d3-d98e-48b5-cc55-78975645df7a"
      },
      "source": [
        "#Plotting an image from the validation dataset\n",
        "plt.imshow(img_val[0], cmap='gray')\n",
        "\n",
        "#Plotting the facial keypoints from the validation dataset\n",
        "plt.scatter(validation_target_vals[0],validation_target_vals[1], color='red')\n",
        "plt.scatter(validation_target_vals[2],validation_target_vals[3], color='red')\n",
        "plt.scatter(validation_target_vals[4],validation_target_vals[5], color='red')\n",
        "plt.scatter(validation_target_vals[6],validation_target_vals[7], color='red')\n",
        "plt.scatter(validation_target_vals[8],validation_target_vals[9], color='red')\n",
        "plt.scatter(validation_target_vals[10],validation_target_vals[11], color='red')\n",
        "plt.scatter(validation_target_vals[12],validation_target_vals[13], color='red')\n",
        "plt.scatter(validation_target_vals[14],validation_target_vals[15], color='red')\n",
        "plt.scatter(validation_target_vals[16],validation_target_vals[17], color='red')\n",
        "plt.scatter(validation_target_vals[18],validation_target_vals[19], color='red')\n",
        "plt.scatter(validation_target_vals[20],validation_target_vals[21], color='red')\n",
        "plt.scatter(validation_target_vals[22],validation_target_vals[23], color='red')\n",
        "plt.scatter(validation_target_vals[24],validation_target_vals[25], color='red')\n",
        "plt.scatter(validation_target_vals[26],validation_target_vals[27], color='red')\n",
        "plt.scatter(validation_target_vals[28],validation_target_vals[29], color='red')"
      ],
      "execution_count": 27,
      "outputs": [
        {
          "output_type": "execute_result",
          "data": {
            "text/plain": [
              "<matplotlib.collections.PathCollection at 0x7f16b790ce90>"
            ]
          },
          "metadata": {
            "tags": []
          },
          "execution_count": 27
        },
        {
          "output_type": "display_data",
          "data": {
            "image/png": "[encoded data removed]",
            "text/plain": [
              "<Figure size 432x288 with 1 Axes>"
            ]
          },
          "metadata": {
            "tags": [],
            "needs_background": "light"
          }
        }
      ]
    },
    {
      "cell_type": "markdown",
      "metadata": {
        "id": "rY3eI8or_EZ5"
      },
      "source": [
        "### **Using the test data to make predictions** "
      ]
    },
    {
      "cell_type": "code",
      "metadata": {
        "id": "MTZG-QGMGDcf"
      },
      "source": [
        "#Reading in the test data\n",
        "df_test = pd.read_csv(data_dir + 'test.csv')"
      ],
      "execution_count": 28,
      "outputs": []
    },
    {
      "cell_type": "code",
      "metadata": {
        "id": "xI5Yozg3GDfn"
      },
      "source": [
        "#Dataset Class for the Test Data\n",
        "class FacialKeyPointsTestDataset(torch.utils.data.Dataset):\n",
        "    def __init__(self,df): #Initialisation Method \n",
        "        self.df = df \n",
        "\n",
        "    def __len__(self): #Length Method\n",
        "        return len(self.df)\n",
        "    \n",
        "    def __getitem__(self,idx): #Get Item Method \n",
        "        row = self.df.iloc[idx]\n",
        "\n",
        "        x = row['Image'].split(' ')\n",
        "        x = np.float32(np.array(x)) #/255  (Normalised above so not needed here)\n",
        "        \n",
        "        #For a CNN, X needs to be a multidimensional array instead of a flat vector in a simple NN\n",
        "        x = np.reshape(x, (96,96))\n",
        "\n",
        "        x = np.stack((x,x,x), axis =2) #Albumentations wants it in shape (96,96,3)\n",
        "\n",
        "      \n",
        "        #PyTorch wants it in (3,96,96), so we need another reshape\n",
        "        x = np.transpose(x, (2,0,1))\n",
        "        \n",
        "        return x"
      ],
      "execution_count": 29,
      "outputs": []
    },
    {
      "cell_type": "code",
      "metadata": {
        "id": "QCz24ojY_LwI"
      },
      "source": [
        "#Initialising our data with the Facial Key Points Test Dataset\n",
        "dataset_test = FacialKeyPointsTestDataset(df_test)\n",
        "\n",
        "#An empty array to store the images from the test set \n",
        "img_test = []\n",
        "\n",
        "for i in range(len(dataset_test)):\n",
        "  img_test.append(dataset_test.__getitem__(i))\n",
        "\n",
        "X_test = img_test[0]\n",
        "x_test = np.array(img_test,dtype='float32')"
      ],
      "execution_count": 30,
      "outputs": []
    },
    {
      "cell_type": "code",
      "metadata": {
        "id": "ZwlR1DNQ_OqR"
      },
      "source": [
        "#Getting predictions for the test dataset\n",
        "x_test = torch.tensor(x_test)\n",
        "x_test = x_test.to(device)\n",
        "\n",
        "with torch.no_grad(): #Tells pyTorch that it does not need to keep track of gradient info\n",
        "    outputs = model(x_test) #Predictions \n",
        "\n",
        "outputs = outputs.cpu().detach().numpy() #Needs to be put back to the CPU \n",
        "\n",
        "\n",
        "img_val = x_test[0].cpu().numpy() #Needs to be put back to the CPU \n",
        "validation_target_vals = outputs[0]"
      ],
      "execution_count": 31,
      "outputs": []
    },
    {
      "cell_type": "code",
      "metadata": {
        "colab": {
          "base_uri": "https://localhost:8080/"
        },
        "id": "EVFcHrnu_Qu8",
        "outputId": "63b97cd4-a27a-487e-b2f5-795bb410a039"
      },
      "source": [
        "#Predicted Values for the first image in the test set\n",
        "outputs[0] "
      ],
      "execution_count": 32,
      "outputs": [
        {
          "output_type": "execute_result",
          "data": {
            "text/plain": [
              "array([238.17397 , 111.94281 ,  91.81104 , 135.10945 , 201.68765 ,\n",
              "       124.68304 , 266.21906 , 122.96057 , 124.099304, 131.14162 ,\n",
              "        54.527588, 138.88568 , 187.78519 ,  78.31195 , 286.14423 ,\n",
              "        87.517654, 128.05762 ,  82.63454 ,  21.831757, 104.20499 ,\n",
              "       195.3859  , 182.3313  , 227.73817 , 280.8397  , 110.03537 ,\n",
              "       285.98697 , 172.15121 , 256.49524 , 192.98584 , 319.38535 ],\n",
              "      dtype=float32)"
            ]
          },
          "metadata": {
            "tags": []
          },
          "execution_count": 32
        }
      ]
    },
    {
      "cell_type": "code",
      "metadata": {
        "colab": {
          "base_uri": "https://localhost:8080/",
          "height": 286
        },
        "id": "2aiE6UF2_TTv",
        "outputId": "59c34709-b17b-4a16-a387-20eb50e9231a"
      },
      "source": [
        "#Plotting an image from the test dataset\n",
        "plt.imshow(img_val[0], cmap='gray')\n",
        "\n",
        "#Plotting the facial keypoints from the test dataset\n",
        "plt.scatter(validation_target_vals[0],validation_target_vals[1], color='red')\n",
        "plt.scatter(validation_target_vals[2],validation_target_vals[3], color='red')\n",
        "plt.scatter(validation_target_vals[4],validation_target_vals[5], color='red')\n",
        "plt.scatter(validation_target_vals[6],validation_target_vals[7], color='red')\n",
        "plt.scatter(validation_target_vals[8],validation_target_vals[9], color='red')\n",
        "plt.scatter(validation_target_vals[10],validation_target_vals[11], color='red')\n",
        "plt.scatter(validation_target_vals[12],validation_target_vals[13], color='red')\n",
        "plt.scatter(validation_target_vals[14],validation_target_vals[15], color='red')\n",
        "plt.scatter(validation_target_vals[16],validation_target_vals[17], color='red')\n",
        "plt.scatter(validation_target_vals[18],validation_target_vals[19], color='red')\n",
        "plt.scatter(validation_target_vals[20],validation_target_vals[21], color='red')\n",
        "plt.scatter(validation_target_vals[22],validation_target_vals[23], color='red')\n",
        "plt.scatter(validation_target_vals[24],validation_target_vals[25], color='red')\n",
        "plt.scatter(validation_target_vals[26],validation_target_vals[27], color='red')\n",
        "plt.scatter(validation_target_vals[28],validation_target_vals[29], color='red')"
      ],
      "execution_count": 33,
      "outputs": [
        {
          "output_type": "execute_result",
          "data": {
            "text/plain": [
              "<matplotlib.collections.PathCollection at 0x7f16b7883a10>"
            ]
          },
          "metadata": {
            "tags": []
          },
          "execution_count": 33
        },
        {
          "output_type": "display_data",
          "data": {
            "image/png": "[encoded data removed]",
            "text/plain": [
              "<Figure size 432x288 with 1 Axes>"
            ]
          },
          "metadata": {
            "tags": [],
            "needs_background": "light"
          }
        }
      ]
    }
  ]
}